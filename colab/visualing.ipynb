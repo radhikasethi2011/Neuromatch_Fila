{
  "nbformat": 4,
  "nbformat_minor": 0,
  "metadata": {
    "colab": {
      "name": "visualing.ipynb",
      "provenance": [],
      "authorship_tag": "ABX9TyN5qrbtYCcgNtVcP0pSGcSN",
      "include_colab_link": true
    },
    "kernelspec": {
      "name": "python3",
      "display_name": "Python 3"
    },
    "language_info": {
      "name": "python"
    }
  },
  "cells": [
    {
      "cell_type": "markdown",
      "metadata": {
        "id": "view-in-github",
        "colab_type": "text"
      },
      "source": [
        "<a href=\"https://colab.research.google.com/github/radhikasethi2011/Neuromatch_Fila/blob/main/colab/visualing.ipynb\" target=\"_parent\"><img src=\"https://colab.research.google.com/assets/colab-badge.svg\" alt=\"Open In Colab\"/></a>"
      ]
    },
    {
      "cell_type": "markdown",
      "source": [
        "upload your kaggle.json file first"
      ],
      "metadata": {
        "id": "gMH2eUYDfYfd"
      }
    },
    {
      "cell_type": "code",
      "execution_count": null,
      "metadata": {
        "id": "du4hd0h4pckl"
      },
      "outputs": [],
      "source": [
        "!pip install kaggle"
      ]
    },
    {
      "cell_type": "code",
      "source": [
        "!mkdir ~/.kaggle\n",
        "!cp kaggle.json ~/.kaggle/\n",
        "!chmod 600 ~/.kaggle/kaggle.json\n"
      ],
      "metadata": {
        "id": "9kv_9XHotExZ"
      },
      "execution_count": null,
      "outputs": []
    },
    {
      "cell_type": "markdown",
      "source": [
        "downloading kaggle dataset"
      ],
      "metadata": {
        "id": "NzLizXssfct2"
      }
    },
    {
      "cell_type": "code",
      "source": [
        "!kaggle datasets download masoudnickparvar/brain-tumor-mri-dataset"
      ],
      "metadata": {
        "id": "-ol413vDtRXB"
      },
      "execution_count": null,
      "outputs": []
    },
    {
      "cell_type": "code",
      "source": [
        "!unzip /content/brain-tumor-mri-dataset.zip"
      ],
      "metadata": {
        "id": "P1SgypP9tkEr"
      },
      "execution_count": null,
      "outputs": []
    },
    {
      "cell_type": "markdown",
      "source": [
        "imports"
      ],
      "metadata": {
        "id": "WBAjydtKffXu"
      }
    },
    {
      "cell_type": "code",
      "source": [
        "import numpy as np # linear algebra\n",
        "import pandas as pd # data processing, CSV file I/O (e.g. pd.read_csv\n",
        "import os\n",
        "import torchvision\n",
        "import matplotlib.pyplot as plt #For plotting.\n",
        "import PIL.Image as Image #For working with image files.\n",
        "#Importing torch\n",
        "import cv2\n",
        "import torch\n",
        "import torch.nn as nn\n",
        "import torch.nn.functional as F\n",
        "import torchvision.models as models\n",
        "from torch.utils.data import Dataset,DataLoader #For working with data.\n",
        "import statistics\n",
        "\n",
        "from torchvision import models,transforms #For pretrained models,image transformations.\n",
        "device = torch.device('cuda' if torch.cuda.is_available() else 'cpu') #Use GPU if it's available or else use CPU.\n",
        "print(device) #Prints the device we're using."
      ],
      "metadata": {
        "id": "ralXL8qye7JB"
      },
      "execution_count": null,
      "outputs": []
    },
    {
      "cell_type": "markdown",
      "source": [
        "picking the first image from training/glioma - printing that, also applying 3 types of filters to it \n",
        "1. gaussian blur\n",
        "2. median blur\n",
        "3. bilateral filter"
      ],
      "metadata": {
        "id": "fwsDIWtcgKqb"
      }
    },
    {
      "cell_type": "code",
      "source": [
        "\n",
        "%matplotlib inline\n",
        "rgb_list = []\n",
        "image = cv2.imread('/content/Training/glioma/Tr-glTr_0000.jpg')\n",
        "RGB_img = cv2.cvtColor(image, cv2.COLOR_BGR2RGB)\n",
        "rgb_list.append(RGB_img)\n",
        "print('original image')\n",
        "plt.imshow(RGB_img)\n",
        "\n",
        "Gaussian = cv2.GaussianBlur(image, (7, 7), 0)\n",
        "RGB_img = cv2.cvtColor(Gaussian, cv2.COLOR_BGR2RGB)\n",
        "rgb_list.append(RGB_img)\n",
        "plt.imshow(RGB_img)\n",
        "\n",
        "median = cv2.medianBlur(image, 5)\n",
        "RGB_img = cv2.cvtColor(median, cv2.COLOR_BGR2RGB)\n",
        "rgb_list.append(RGB_img)\n",
        "plt.imshow(RGB_img)\n",
        "  \n",
        "bilateral = cv2.bilateralFilter(image, 9, 75, 75)\n",
        "RGB_img = cv2.cvtColor(bilateral, cv2.COLOR_BGR2RGB)\n",
        "rgb_list.append(RGB_img)\n",
        "plt.imshow(RGB_img)\n",
        "\n",
        "  \n",
        "# generation of a dictionary of (title, images)\n",
        "\n",
        "def plot_figures(figures, nrows = 1, ncols=1):\n",
        "    \"\"\"Plot a dictionary of figures.\n",
        "\n",
        "    Parameters\n",
        "    ----------\n",
        "    figures : <title, figure> dictionary\n",
        "    ncols : number of columns of subplots wanted in the display\n",
        "    nrows : number of rows of subplots wanted in the figure\n",
        "    \"\"\"\n",
        "\n",
        "    fig, axeslist = plt.subplots(ncols=ncols, nrows=nrows)\n",
        "    for ind,title in enumerate(figures):\n",
        "        axeslist.ravel()[ind].imshow(figures[title], cmap=plt.gray())\n",
        "        axeslist.ravel()[ind].set_title(title)\n",
        "        axeslist.ravel()[ind].set_axis_off()\n",
        "        f = plt.gcf()\n",
        "        f.set_figwidth(15) # Sets overall figure width to 10 inches\n",
        "        f.set_figheight(15) # Sets overall figure height to 10 inches    \n",
        "    plt.tight_layout() # optional\n",
        "    #lt.show()\n",
        "\n",
        "number_of_im = 4\n",
        "title = ['original','gaussian blur', 'median blur', 'bilateral blur']\n",
        "\n",
        "figures = { title[i]:rgb_list[i]  for i in range(number_of_im)}\n",
        "\n",
        "# plot of the images in a figure, with 2 rows and 3 columns\n",
        "plot_figures(figures, 1,4)\n"
      ],
      "metadata": {
        "id": "V-NELVtPfgfr"
      },
      "execution_count": null,
      "outputs": []
    },
    {
      "cell_type": "code",
      "source": [
        ""
      ],
      "metadata": {
        "id": "gv-DiaI-gVzL"
      },
      "execution_count": null,
      "outputs": []
    }
  ]
}